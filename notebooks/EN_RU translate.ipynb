{
 "cells": [
  {
   "cell_type": "code",
   "execution_count": 1,
   "metadata": {},
   "outputs": [],
   "source": [
    "import os\n",
    "from dotenv import load_dotenv, find_dotenv\n",
    "import tiktoken\n",
    "import openai\n",
    "from langchain.schema import Document\n",
    "from langchain.document_transformers import DoctranTextTranslator\n",
    "from langchain.llms import OpenAI\n",
    "from langchain.callbacks import get_openai_callback\n",
    "\n",
    "a = load_dotenv(find_dotenv())  # read local .env file\n",
    "opena_api_key = os.environ['OPENAI_API_KEY']"
   ]
  },
  {
   "cell_type": "code",
   "execution_count": 2,
   "metadata": {},
   "outputs": [],
   "source": [
    "def num_tokens_from_content(content, model:str = \"gpt-3.5-turbo\") -> int:\n",
    "    try:\n",
    "        encoding = tiktoken.encoding_for_model(model)\n",
    "    except KeyError:\n",
    "        encoding = tiktoken.get_encoding(\"cl100k_base\")\n",
    "    num_tokens = len(encoding.encode(content))\n",
    "    return num_tokens"
   ]
  },
  {
   "cell_type": "code",
   "execution_count": 3,
   "metadata": {},
   "outputs": [
    {
     "name": "stdout",
     "output_type": "stream",
     "text": [
      "Filesize: 599 bytes\n",
      "Number of tokens (GPT3.5): 9523\n"
     ]
    }
   ],
   "source": [
    "source_txt_filepath = \"../docs/Toward an Ontology for Third Generation Systems Thinking.txt\"\n",
    "\n",
    "with open(source_txt_filepath, \"r\") as f:\n",
    "    source_text = f.read()\n",
    "\n",
    "filesize = len(source_text.split(\"\\n\"))\n",
    "number_of_tokens = num_tokens_from_content(source_text)\n",
    "\n",
    "print(f\"Filesize: {filesize} bytes\\nNumber of tokens (GPT3.5): {number_of_tokens}\")"
   ]
  },
  {
   "cell_type": "code",
   "execution_count": 4,
   "metadata": {},
   "outputs": [
    {
     "name": "stdout",
     "output_type": "stream",
     "text": [
      "OpenAI document transformation failed. The document is 9523 tokens long, which exceeds the token limit of 8000.\n"
     ]
    },
    {
     "ename": "TypeError",
     "evalue": "object Document can't be used in 'await' expression",
     "output_type": "error",
     "traceback": [
      "\u001b[1;31m---------------------------------------------------------------------------\u001b[0m",
      "\u001b[1;31mTypeError\u001b[0m                                 Traceback (most recent call last)",
      "\u001b[1;32md:\\9-GitHubR\\gh_chatgpt_translator\\notebooks\\EN_RU translate.ipynb Cell 4\u001b[0m line \u001b[0;36m9\n\u001b[0;32m      <a href='vscode-notebook-cell:/d%3A/9-GitHubR/gh_chatgpt_translator/notebooks/EN_RU%20translate.ipynb#W2sZmlsZQ%3D%3D?line=0'>1</a>\u001b[0m documents \u001b[39m=\u001b[39m [Document(page_content\u001b[39m=\u001b[39msource_text)]\n\u001b[0;32m      <a href='vscode-notebook-cell:/d%3A/9-GitHubR/gh_chatgpt_translator/notebooks/EN_RU%20translate.ipynb#W2sZmlsZQ%3D%3D?line=2'>3</a>\u001b[0m doc_translator \u001b[39m=\u001b[39m DoctranTextTranslator(\n\u001b[0;32m      <a href='vscode-notebook-cell:/d%3A/9-GitHubR/gh_chatgpt_translator/notebooks/EN_RU%20translate.ipynb#W2sZmlsZQ%3D%3D?line=3'>4</a>\u001b[0m         openai_api_key\u001b[39m=\u001b[39mopena_api_key, \n\u001b[0;32m      <a href='vscode-notebook-cell:/d%3A/9-GitHubR/gh_chatgpt_translator/notebooks/EN_RU%20translate.ipynb#W2sZmlsZQ%3D%3D?line=4'>5</a>\u001b[0m         language\u001b[39m=\u001b[39m\u001b[39m'\u001b[39m\u001b[39mrussian\u001b[39m\u001b[39m'\u001b[39m,\n\u001b[0;32m      <a href='vscode-notebook-cell:/d%3A/9-GitHubR/gh_chatgpt_translator/notebooks/EN_RU%20translate.ipynb#W2sZmlsZQ%3D%3D?line=5'>6</a>\u001b[0m         openai_api_model\u001b[39m=\u001b[39m\u001b[39m\"\u001b[39m\u001b[39mgpt-3.5-turbo-16k\u001b[39m\u001b[39m\"\u001b[39m\n\u001b[0;32m      <a href='vscode-notebook-cell:/d%3A/9-GitHubR/gh_chatgpt_translator/notebooks/EN_RU%20translate.ipynb#W2sZmlsZQ%3D%3D?line=6'>7</a>\u001b[0m         )\n\u001b[1;32m----> <a href='vscode-notebook-cell:/d%3A/9-GitHubR/gh_chatgpt_translator/notebooks/EN_RU%20translate.ipynb#W2sZmlsZQ%3D%3D?line=8'>9</a>\u001b[0m translated_document \u001b[39m=\u001b[39m \u001b[39mawait\u001b[39;00m doc_translator\u001b[39m.\u001b[39matransform_documents(documents)\n",
      "File \u001b[1;32md:\\9-GitHubR\\gh_chatgpt_translator\\.venv\\lib\\site-packages\\langchain\\document_transformers\\doctran_text_translate.py:63\u001b[0m, in \u001b[0;36mDoctranTextTranslator.atransform_documents\u001b[1;34m(self, documents, **kwargs)\u001b[0m\n\u001b[0;32m     58\u001b[0m doctran_docs \u001b[39m=\u001b[39m [\n\u001b[0;32m     59\u001b[0m     doctran\u001b[39m.\u001b[39mparse(content\u001b[39m=\u001b[39mdoc\u001b[39m.\u001b[39mpage_content, metadata\u001b[39m=\u001b[39mdoc\u001b[39m.\u001b[39mmetadata)\n\u001b[0;32m     60\u001b[0m     \u001b[39mfor\u001b[39;00m doc \u001b[39min\u001b[39;00m documents\n\u001b[0;32m     61\u001b[0m ]\n\u001b[0;32m     62\u001b[0m \u001b[39mfor\u001b[39;00m i, doc \u001b[39min\u001b[39;00m \u001b[39menumerate\u001b[39m(doctran_docs):\n\u001b[1;32m---> 63\u001b[0m     doctran_docs[i] \u001b[39m=\u001b[39m \u001b[39mawait\u001b[39;00m doc\u001b[39m.\u001b[39mtranslate(language\u001b[39m=\u001b[39m\u001b[39mself\u001b[39m\u001b[39m.\u001b[39mlanguage)\u001b[39m.\u001b[39mexecute()\n\u001b[0;32m     64\u001b[0m \u001b[39mreturn\u001b[39;00m [\n\u001b[0;32m     65\u001b[0m     Document(page_content\u001b[39m=\u001b[39mdoc\u001b[39m.\u001b[39mtransformed_content, metadata\u001b[39m=\u001b[39mdoc\u001b[39m.\u001b[39mmetadata)\n\u001b[0;32m     66\u001b[0m     \u001b[39mfor\u001b[39;00m doc \u001b[39min\u001b[39;00m doctran_docs\n\u001b[0;32m     67\u001b[0m ]\n",
      "\u001b[1;31mTypeError\u001b[0m: object Document can't be used in 'await' expression"
     ]
    }
   ],
   "source": [
    "documents = [Document(page_content=source_text)]\n",
    "\n",
    "doc_translator = DoctranTextTranslator(\n",
    "        openai_api_key=opena_api_key, \n",
    "        language='russian',\n",
    "        openai_api_model=\"gpt-3.5-turbo-16k\"\n",
    "        )\n",
    "\n",
    "translated_document = await doc_translator.atransform_documents(documents)"
   ]
  },
  {
   "cell_type": "code",
   "execution_count": null,
   "metadata": {},
   "outputs": [],
   "source": [
    "dest_txt_filepath = \"../docs/Toward an Ontology for Third Generation Systems Thinking.txt\"\n",
    "\n",
    "with open(dest_txt_filepath, \"w\") as f:\n",
    "    f.write(translated_document)"
   ]
  }
 ],
 "metadata": {
  "kernelspec": {
   "display_name": ".venv",
   "language": "python",
   "name": "python3"
  },
  "language_info": {
   "codemirror_mode": {
    "name": "ipython",
    "version": 3
   },
   "file_extension": ".py",
   "mimetype": "text/x-python",
   "name": "python",
   "nbconvert_exporter": "python",
   "pygments_lexer": "ipython3",
   "version": "3.10.6"
  }
 },
 "nbformat": 4,
 "nbformat_minor": 2
}
